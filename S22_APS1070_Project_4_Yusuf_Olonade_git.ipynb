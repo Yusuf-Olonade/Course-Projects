{
  "nbformat": 4,
  "nbformat_minor": 0,
  "metadata": {
    "colab": {
      "name": "S22_Project_4_git.ipynb",
      "provenance": [],
      "collapsed_sections": []
    },
    "kernelspec": {
      "display_name": "Python 3",
      "language": "python",
      "name": "python3"
    },
    "language_info": {
      "codemirror_mode": {
        "name": "ipython",
        "version": 3
      },
      "file_extension": ".py",
      "mimetype": "text/x-python",
      "name": "python",
      "nbconvert_exporter": "python",
      "pygments_lexer": "ipython3",
      "version": "3.7.4"
    }
  },
  "cells": [
    {
      "cell_type": "markdown",
      "metadata": {
        "id": "OTpnyUEJrAjE"
      },
      "source": [
        "# Project 4, Git Practice, APS1070 Summer 2022\n",
        "#### **Linear Regression -  15 points**\n",
        "**Deadline: August 13th, 23:00**\n",
        "\n",
        "**Academic Integrity**\n",
        "\n",
        "This project is individual - it is to be completed on your own. If you have questions, please post your query in the APS1070 Piazza Q&A forums (the answer might be useful to others!).\n",
        "\n",
        "Do not share your code with others, or post your work online. Do not submit code that you have not written yourself. Students suspected of plagiarism on a project, midterm or exam will be referred to the department for formal discipline for breaches of the Student Code of Conduct."
      ]
    },
    {
      "cell_type": "markdown",
      "metadata": {
        "id": "fUdJ6xw3rJIG"
      },
      "source": [
        "Please fill out the following:\n",
        "\n",
        "\n",
        "*   Your **name**: Yusuf Olonade\n",
        "*   Your **student number**: 1006814743\n",
        "\n"
      ]
    },
    {
      "cell_type": "markdown",
      "metadata": {
        "id": "sy0M4UZZNEk2"
      },
      "source": [
        "## Gradient Descent with Additional Features and Regularization [2 marks + 1 mark Git submission]\n",
        "\n",
        "We'll apply linear regresssion to a toy dataset (`LR_data.csv`), with 10 features `x1`-`x10` and a \"measurement\" `y`. We'll take a few shortcuts by using built-in sklearn functions.\n",
        "\n",
        "1. Data Preparation **[0.5]**\n",
        "  * Print the dataset, and create Numpy arrays with inputs (X) and outputs (y). \n",
        "  * Split the dataset into training and validation sets (80% training, 20% validation). When splitting, set `random_state=1`.\n",
        "\n",
        "2. Linear Regression **[0.5]**\n",
        "  * Standardize the data using StandardScaler from sklearn.\n",
        "  * Use the `sklearn.linear_model.LinearRegression` function [here](https://scikit-learn.org/stable/modules/generated/sklearn.linear_model.LinearRegression.html) to perform linear regression.\n",
        "  * Print the RMSE for training and validation data.\n",
        "\n",
        "3. Linear Regression with Additional Features **[0.5]**\n",
        "  * Let's add more features to our dataset (degree 8) using `sklearn.preprocessing.PolynomialFeatures` [here](https://scikit-learn.org/stable/modules/generated/sklearn.preprocessing.PolynomialFeatures.html). You'll want to create the additional features first, then perform standardization (start from non-standardized data).\n",
        "  * Again, use `sklearn.linear_model.LinearRegression` to perform linear regression.\n",
        "  * Print the RMSE for training and validation data.\n",
        "\n",
        "4. Linear Regression with Additional Features and Regularization **[0.5]**\n",
        "  * Let's switch models, and instead use the `sklearn.linear_model.Ridge` function [here](https://scikit-learn.org/stable/modules/generated/sklearn.linear_model.Ridge.html#sklearn.linear_model.Ridge) to perform linear regression with regularization. Apply the model to the processed data (additional, standardized) you used in 3 above. Use a `FOR` loop to run `sklearn.linear_model.Ridge` with different `alpha` values. Specifically, sweep `alpha` from 1E-2 to 1E10 (each step is an order of magnitude jump)."
      ]
    },
    {
      "cell_type": "code",
      "metadata": {
        "id": "6ZKR243TOERR"
      },
      "source": [
        "import pandas as pd\n",
        "df=pd.read_csv(\"https://raw.githubusercontent.com/aps1070-2019/datasets/master/LR_data.csv\" , skipinitialspace=True)"
      ],
      "execution_count": 11,
      "outputs": []
    },
    {
      "cell_type": "code",
      "source": [
        "df"
      ],
      "metadata": {
        "colab": {
          "base_uri": "https://localhost:8080/",
          "height": 424
        },
        "id": "zyiVXO7hb1K0",
        "outputId": "48464628-72a1-4664-be67-27a677d95250"
      },
      "execution_count": 12,
      "outputs": [
        {
          "output_type": "execute_result",
          "data": {
            "text/plain": [
              "           x1        x2        x3        x4        x5        x6        x7  \\\n",
              "0    1.454481  4.940543  7.116015  3.805131  4.105432  1.832290  5.211909   \n",
              "1    4.907182  1.653654  7.339445  9.065282  7.169233  2.354136  2.893005   \n",
              "2    1.842804  1.183878  4.203206  6.815847  6.655899  8.295816  3.556779   \n",
              "3    2.393457  0.094127  3.208929  0.497443  4.318127  4.999247  9.470238   \n",
              "4    5.093724  3.905293  4.858562  4.465484  0.947091  9.410307  8.137329   \n",
              "..        ...       ...       ...       ...       ...       ...       ...   \n",
              "195  2.936450  2.094812  9.493814  3.411240  4.350940  0.386062  1.303290   \n",
              "196  4.915597  1.953974  7.312552  9.331203  1.329366  8.286760  5.233018   \n",
              "197  6.772096  6.406489  4.638352  7.042340  0.912338  7.568296  1.194928   \n",
              "198  3.940339  4.330498  6.693371  9.169265  0.858846  0.601942  2.635455   \n",
              "199  8.636129  1.272939  4.339175  4.417427  5.697190  8.944253  7.952686   \n",
              "\n",
              "           x8        x9       x10             y  \n",
              "0    5.088293  3.841250  6.121133  6.575066e+06  \n",
              "1    8.720131  8.646473  3.806860  8.419881e+06  \n",
              "2    5.794679  3.260723  5.463808  9.745537e+04  \n",
              "3    3.061990  7.312995  5.475240  1.129200e+04  \n",
              "4    9.043838  9.128607  0.790795  3.105448e+05  \n",
              "..        ...       ...       ...           ...  \n",
              "195  2.699563  7.622569  3.037162  6.599726e+07  \n",
              "196  7.476923  7.043560  5.745565  8.176250e+06  \n",
              "197  2.592840  9.386478  4.147710  2.144147e+05  \n",
              "198  2.037859  7.883720  8.525164  4.028735e+06  \n",
              "199  4.917967  9.543772  5.673870  1.257168e+05  \n",
              "\n",
              "[200 rows x 11 columns]"
            ],
            "text/html": [
              "\n",
              "  <div id=\"df-d9e93aad-196b-484e-b2ea-6d743c688c1c\">\n",
              "    <div class=\"colab-df-container\">\n",
              "      <div>\n",
              "<style scoped>\n",
              "    .dataframe tbody tr th:only-of-type {\n",
              "        vertical-align: middle;\n",
              "    }\n",
              "\n",
              "    .dataframe tbody tr th {\n",
              "        vertical-align: top;\n",
              "    }\n",
              "\n",
              "    .dataframe thead th {\n",
              "        text-align: right;\n",
              "    }\n",
              "</style>\n",
              "<table border=\"1\" class=\"dataframe\">\n",
              "  <thead>\n",
              "    <tr style=\"text-align: right;\">\n",
              "      <th></th>\n",
              "      <th>x1</th>\n",
              "      <th>x2</th>\n",
              "      <th>x3</th>\n",
              "      <th>x4</th>\n",
              "      <th>x5</th>\n",
              "      <th>x6</th>\n",
              "      <th>x7</th>\n",
              "      <th>x8</th>\n",
              "      <th>x9</th>\n",
              "      <th>x10</th>\n",
              "      <th>y</th>\n",
              "    </tr>\n",
              "  </thead>\n",
              "  <tbody>\n",
              "    <tr>\n",
              "      <th>0</th>\n",
              "      <td>1.454481</td>\n",
              "      <td>4.940543</td>\n",
              "      <td>7.116015</td>\n",
              "      <td>3.805131</td>\n",
              "      <td>4.105432</td>\n",
              "      <td>1.832290</td>\n",
              "      <td>5.211909</td>\n",
              "      <td>5.088293</td>\n",
              "      <td>3.841250</td>\n",
              "      <td>6.121133</td>\n",
              "      <td>6.575066e+06</td>\n",
              "    </tr>\n",
              "    <tr>\n",
              "      <th>1</th>\n",
              "      <td>4.907182</td>\n",
              "      <td>1.653654</td>\n",
              "      <td>7.339445</td>\n",
              "      <td>9.065282</td>\n",
              "      <td>7.169233</td>\n",
              "      <td>2.354136</td>\n",
              "      <td>2.893005</td>\n",
              "      <td>8.720131</td>\n",
              "      <td>8.646473</td>\n",
              "      <td>3.806860</td>\n",
              "      <td>8.419881e+06</td>\n",
              "    </tr>\n",
              "    <tr>\n",
              "      <th>2</th>\n",
              "      <td>1.842804</td>\n",
              "      <td>1.183878</td>\n",
              "      <td>4.203206</td>\n",
              "      <td>6.815847</td>\n",
              "      <td>6.655899</td>\n",
              "      <td>8.295816</td>\n",
              "      <td>3.556779</td>\n",
              "      <td>5.794679</td>\n",
              "      <td>3.260723</td>\n",
              "      <td>5.463808</td>\n",
              "      <td>9.745537e+04</td>\n",
              "    </tr>\n",
              "    <tr>\n",
              "      <th>3</th>\n",
              "      <td>2.393457</td>\n",
              "      <td>0.094127</td>\n",
              "      <td>3.208929</td>\n",
              "      <td>0.497443</td>\n",
              "      <td>4.318127</td>\n",
              "      <td>4.999247</td>\n",
              "      <td>9.470238</td>\n",
              "      <td>3.061990</td>\n",
              "      <td>7.312995</td>\n",
              "      <td>5.475240</td>\n",
              "      <td>1.129200e+04</td>\n",
              "    </tr>\n",
              "    <tr>\n",
              "      <th>4</th>\n",
              "      <td>5.093724</td>\n",
              "      <td>3.905293</td>\n",
              "      <td>4.858562</td>\n",
              "      <td>4.465484</td>\n",
              "      <td>0.947091</td>\n",
              "      <td>9.410307</td>\n",
              "      <td>8.137329</td>\n",
              "      <td>9.043838</td>\n",
              "      <td>9.128607</td>\n",
              "      <td>0.790795</td>\n",
              "      <td>3.105448e+05</td>\n",
              "    </tr>\n",
              "    <tr>\n",
              "      <th>...</th>\n",
              "      <td>...</td>\n",
              "      <td>...</td>\n",
              "      <td>...</td>\n",
              "      <td>...</td>\n",
              "      <td>...</td>\n",
              "      <td>...</td>\n",
              "      <td>...</td>\n",
              "      <td>...</td>\n",
              "      <td>...</td>\n",
              "      <td>...</td>\n",
              "      <td>...</td>\n",
              "    </tr>\n",
              "    <tr>\n",
              "      <th>195</th>\n",
              "      <td>2.936450</td>\n",
              "      <td>2.094812</td>\n",
              "      <td>9.493814</td>\n",
              "      <td>3.411240</td>\n",
              "      <td>4.350940</td>\n",
              "      <td>0.386062</td>\n",
              "      <td>1.303290</td>\n",
              "      <td>2.699563</td>\n",
              "      <td>7.622569</td>\n",
              "      <td>3.037162</td>\n",
              "      <td>6.599726e+07</td>\n",
              "    </tr>\n",
              "    <tr>\n",
              "      <th>196</th>\n",
              "      <td>4.915597</td>\n",
              "      <td>1.953974</td>\n",
              "      <td>7.312552</td>\n",
              "      <td>9.331203</td>\n",
              "      <td>1.329366</td>\n",
              "      <td>8.286760</td>\n",
              "      <td>5.233018</td>\n",
              "      <td>7.476923</td>\n",
              "      <td>7.043560</td>\n",
              "      <td>5.745565</td>\n",
              "      <td>8.176250e+06</td>\n",
              "    </tr>\n",
              "    <tr>\n",
              "      <th>197</th>\n",
              "      <td>6.772096</td>\n",
              "      <td>6.406489</td>\n",
              "      <td>4.638352</td>\n",
              "      <td>7.042340</td>\n",
              "      <td>0.912338</td>\n",
              "      <td>7.568296</td>\n",
              "      <td>1.194928</td>\n",
              "      <td>2.592840</td>\n",
              "      <td>9.386478</td>\n",
              "      <td>4.147710</td>\n",
              "      <td>2.144147e+05</td>\n",
              "    </tr>\n",
              "    <tr>\n",
              "      <th>198</th>\n",
              "      <td>3.940339</td>\n",
              "      <td>4.330498</td>\n",
              "      <td>6.693371</td>\n",
              "      <td>9.169265</td>\n",
              "      <td>0.858846</td>\n",
              "      <td>0.601942</td>\n",
              "      <td>2.635455</td>\n",
              "      <td>2.037859</td>\n",
              "      <td>7.883720</td>\n",
              "      <td>8.525164</td>\n",
              "      <td>4.028735e+06</td>\n",
              "    </tr>\n",
              "    <tr>\n",
              "      <th>199</th>\n",
              "      <td>8.636129</td>\n",
              "      <td>1.272939</td>\n",
              "      <td>4.339175</td>\n",
              "      <td>4.417427</td>\n",
              "      <td>5.697190</td>\n",
              "      <td>8.944253</td>\n",
              "      <td>7.952686</td>\n",
              "      <td>4.917967</td>\n",
              "      <td>9.543772</td>\n",
              "      <td>5.673870</td>\n",
              "      <td>1.257168e+05</td>\n",
              "    </tr>\n",
              "  </tbody>\n",
              "</table>\n",
              "<p>200 rows × 11 columns</p>\n",
              "</div>\n",
              "      <button class=\"colab-df-convert\" onclick=\"convertToInteractive('df-d9e93aad-196b-484e-b2ea-6d743c688c1c')\"\n",
              "              title=\"Convert this dataframe to an interactive table.\"\n",
              "              style=\"display:none;\">\n",
              "        \n",
              "  <svg xmlns=\"http://www.w3.org/2000/svg\" height=\"24px\"viewBox=\"0 0 24 24\"\n",
              "       width=\"24px\">\n",
              "    <path d=\"M0 0h24v24H0V0z\" fill=\"none\"/>\n",
              "    <path d=\"M18.56 5.44l.94 2.06.94-2.06 2.06-.94-2.06-.94-.94-2.06-.94 2.06-2.06.94zm-11 1L8.5 8.5l.94-2.06 2.06-.94-2.06-.94L8.5 2.5l-.94 2.06-2.06.94zm10 10l.94 2.06.94-2.06 2.06-.94-2.06-.94-.94-2.06-.94 2.06-2.06.94z\"/><path d=\"M17.41 7.96l-1.37-1.37c-.4-.4-.92-.59-1.43-.59-.52 0-1.04.2-1.43.59L10.3 9.45l-7.72 7.72c-.78.78-.78 2.05 0 2.83L4 21.41c.39.39.9.59 1.41.59.51 0 1.02-.2 1.41-.59l7.78-7.78 2.81-2.81c.8-.78.8-2.07 0-2.86zM5.41 20L4 18.59l7.72-7.72 1.47 1.35L5.41 20z\"/>\n",
              "  </svg>\n",
              "      </button>\n",
              "      \n",
              "  <style>\n",
              "    .colab-df-container {\n",
              "      display:flex;\n",
              "      flex-wrap:wrap;\n",
              "      gap: 12px;\n",
              "    }\n",
              "\n",
              "    .colab-df-convert {\n",
              "      background-color: #E8F0FE;\n",
              "      border: none;\n",
              "      border-radius: 50%;\n",
              "      cursor: pointer;\n",
              "      display: none;\n",
              "      fill: #1967D2;\n",
              "      height: 32px;\n",
              "      padding: 0 0 0 0;\n",
              "      width: 32px;\n",
              "    }\n",
              "\n",
              "    .colab-df-convert:hover {\n",
              "      background-color: #E2EBFA;\n",
              "      box-shadow: 0px 1px 2px rgba(60, 64, 67, 0.3), 0px 1px 3px 1px rgba(60, 64, 67, 0.15);\n",
              "      fill: #174EA6;\n",
              "    }\n",
              "\n",
              "    [theme=dark] .colab-df-convert {\n",
              "      background-color: #3B4455;\n",
              "      fill: #D2E3FC;\n",
              "    }\n",
              "\n",
              "    [theme=dark] .colab-df-convert:hover {\n",
              "      background-color: #434B5C;\n",
              "      box-shadow: 0px 1px 3px 1px rgba(0, 0, 0, 0.15);\n",
              "      filter: drop-shadow(0px 1px 2px rgba(0, 0, 0, 0.3));\n",
              "      fill: #FFFFFF;\n",
              "    }\n",
              "  </style>\n",
              "\n",
              "      <script>\n",
              "        const buttonEl =\n",
              "          document.querySelector('#df-d9e93aad-196b-484e-b2ea-6d743c688c1c button.colab-df-convert');\n",
              "        buttonEl.style.display =\n",
              "          google.colab.kernel.accessAllowed ? 'block' : 'none';\n",
              "\n",
              "        async function convertToInteractive(key) {\n",
              "          const element = document.querySelector('#df-d9e93aad-196b-484e-b2ea-6d743c688c1c');\n",
              "          const dataTable =\n",
              "            await google.colab.kernel.invokeFunction('convertToInteractive',\n",
              "                                                     [key], {});\n",
              "          if (!dataTable) return;\n",
              "\n",
              "          const docLinkHtml = 'Like what you see? Visit the ' +\n",
              "            '<a target=\"_blank\" href=https://colab.research.google.com/notebooks/data_table.ipynb>data table notebook</a>'\n",
              "            + ' to learn more about interactive tables.';\n",
              "          element.innerHTML = '';\n",
              "          dataTable['output_type'] = 'display_data';\n",
              "          await google.colab.output.renderOutput(dataTable, element);\n",
              "          const docLink = document.createElement('div');\n",
              "          docLink.innerHTML = docLinkHtml;\n",
              "          element.appendChild(docLink);\n",
              "        }\n",
              "      </script>\n",
              "    </div>\n",
              "  </div>\n",
              "  "
            ]
          },
          "metadata": {},
          "execution_count": 12
        }
      ]
    },
    {
      "cell_type": "code",
      "source": [
        "# 1 Data Preparation\n",
        "from sklearn.model_selection import train_test_split\n",
        "\n",
        "X = df.values[:, :-1]\n",
        "y = df.values[:, -1]\n",
        "X_train, X_valid, y_train, y_valid = train_test_split(X, y, test_size=0.2, random_state = 1)"
      ],
      "metadata": {
        "id": "6Sl8qfBRcCgC"
      },
      "execution_count": 13,
      "outputs": []
    },
    {
      "cell_type": "code",
      "source": [
        "print(f\"X_train shape: {X_train.shape}\")\n",
        "print(f\"y_train shape: {y_train.shape}\")\n",
        "print(f\"X_valid shape:  {X_valid.shape}\")\n",
        "print(f\"y_valid shape:  {y_valid.shape}\")"
      ],
      "metadata": {
        "colab": {
          "base_uri": "https://localhost:8080/"
        },
        "id": "P0TSo1FVeZZE",
        "outputId": "514b780b-9d35-4d77-8a70-d633c5641d3d"
      },
      "execution_count": 14,
      "outputs": [
        {
          "output_type": "stream",
          "name": "stdout",
          "text": [
            "X_train shape: (160, 10)\n",
            "y_train shape: (160,)\n",
            "X_valid shape:  (40, 10)\n",
            "y_valid shape:  (40,)\n"
          ]
        }
      ]
    },
    {
      "cell_type": "code",
      "source": [
        "#2 \n",
        "# Standardizing the dataset\n",
        "from sklearn.preprocessing import StandardScaler\n",
        "\n",
        "scaler = StandardScaler()\n",
        "scaler.fit(X_train) \n",
        "X_train_scaled = scaler.transform(X_train)\n",
        "X_valid_scaled = scaler.transform(X_valid)"
      ],
      "metadata": {
        "id": "-8lXYr7PW-8f"
      },
      "execution_count": 15,
      "outputs": []
    },
    {
      "cell_type": "code",
      "source": [
        "# Defining the error function\n",
        "import numpy as np\n",
        "from sklearn.metrics import mean_squared_error\n",
        "\n",
        "def rmse(yPred, y):\n",
        "    return np.sqrt(mean_squared_error(yPred, y))"
      ],
      "metadata": {
        "id": "vRxkf2AbcTJ0"
      },
      "execution_count": 16,
      "outputs": []
    },
    {
      "cell_type": "code",
      "source": [
        "# Linaer regression\n",
        "import numpy as np\n",
        "from sklearn.linear_model import LinearRegression\n",
        "\n",
        "def linear_regressor(X_train_scaled, y_train, X_valid_scaled, y_valid):\n",
        "  reg = LinearRegression().fit(X_train_scaled, y_train)\n",
        "  yPred_train = reg.predict(X_train_scaled)\n",
        "  yPred_valid = reg.predict(X_valid_scaled)\n",
        "  RMSE_train = rmse(yPred_train, y_train)\n",
        "  RMSE_valid = rmse(yPred_valid, y_valid)\n",
        "  print (\"RMSE on training set: \" , RMSE_train)\n",
        "  print (\"RMSE on validation set: \" , RMSE_valid)"
      ],
      "metadata": {
        "id": "JbvTdkZbctca"
      },
      "execution_count": 17,
      "outputs": []
    },
    {
      "cell_type": "code",
      "source": [
        "Linear_regression = linear_regressor(X_train_scaled, y_train, X_valid_scaled, y_valid)"
      ],
      "metadata": {
        "colab": {
          "base_uri": "https://localhost:8080/"
        },
        "id": "Tf6DNtNlnCtc",
        "outputId": "506cf643-3fa0-4a82-9d7d-0e1f6d503590"
      },
      "execution_count": 18,
      "outputs": [
        {
          "output_type": "stream",
          "name": "stdout",
          "text": [
            "RMSE on training set:  16296980.655667374\n",
            "RMSE on validation set:  14061578.864980102\n"
          ]
        }
      ]
    },
    {
      "cell_type": "code",
      "source": [
        "#3 Linear Regression with Additional Features\n",
        "from sklearn.preprocessing import PolynomialFeatures\n",
        "\n",
        "poly = PolynomialFeatures(8).fit(X_train)                 # Feature mapping on original data\n",
        "X_train_pf = poly.transform(X_train)\n",
        "X_val_pf = poly.transform(X_valid)\n",
        "scaler.fit(X_train_pf)                                    # Standardizing feature maped data\n",
        "X_train_pf_scaled = scaler.transform(X_train_pf)\n",
        "X_valid_pf_scaled = scaler.transform(X_val_pf)\n",
        "Linear_regression = linear_regressor(X_train_pf_scaled, y_train, X_valid_pf_scaled, y_valid)     # Linear regression on feature mapped data"
      ],
      "metadata": {
        "colab": {
          "base_uri": "https://localhost:8080/"
        },
        "id": "iTJhAUUgkBr9",
        "outputId": "1cab10d6-fbd0-432d-e587-c97e8f7e9fb3"
      },
      "execution_count": 19,
      "outputs": [
        {
          "output_type": "stream",
          "name": "stdout",
          "text": [
            "RMSE on training set:  1.1447930035368027e-07\n",
            "RMSE on validation set:  10920843.908991363\n"
          ]
        }
      ]
    },
    {
      "cell_type": "code",
      "source": [
        "#4 Linear Regression with Additional Features and Regularization\n",
        "from sklearn.linear_model import Ridge\n",
        "import numpy as np\n",
        "\n",
        "x = [0.01, 0.1]\n",
        "y = [10**i for i in range(11)]\n",
        "alpha_array = x + y\n",
        "for a in alpha_array:\n",
        "  clf = Ridge(alpha=a).fit(X_train_pf_scaled, y_train)          \n",
        "  yPred_train = clf.predict(X_train_pf_scaled)\n",
        "  yPred_valid = clf.predict(X_valid_pf_scaled)\n",
        "  RMSE_train = rmse(yPred_train, y_train)\n",
        "  RMSE_valid = rmse(yPred_valid, y_valid)\n",
        "  print (\"For alpha = \", a)\n",
        "  print (\"RMSE on training set: \" , RMSE_train)\n",
        "  print (\"RMSE on validation set: \" , RMSE_valid)\n",
        "  print('\\n')"
      ],
      "metadata": {
        "colab": {
          "base_uri": "https://localhost:8080/"
        },
        "id": "xXRRntAdrODX",
        "outputId": "38868a8a-a59e-4ef8-ef5a-926c55f6a15a"
      },
      "execution_count": 20,
      "outputs": [
        {
          "output_type": "stream",
          "name": "stdout",
          "text": [
            "For alpha =  0.01\n",
            "RMSE on training set:  321.01240899995105\n",
            "RMSE on validation set:  10919504.125894452\n",
            "\n",
            "\n",
            "For alpha =  0.1\n",
            "RMSE on training set:  3199.3496468468265\n",
            "RMSE on validation set:  10916171.329032786\n",
            "\n",
            "\n",
            "For alpha =  1\n",
            "RMSE on training set:  30988.518341526313\n",
            "RMSE on validation set:  10884651.01882751\n",
            "\n",
            "\n",
            "For alpha =  10\n",
            "RMSE on training set:  248080.36964934706\n",
            "RMSE on validation set:  10659707.103879161\n",
            "\n",
            "\n",
            "For alpha =  100\n",
            "RMSE on training set:  1196923.6228686147\n",
            "RMSE on validation set:  9484394.220119428\n",
            "\n",
            "\n",
            "For alpha =  1000\n",
            "RMSE on training set:  3609078.259692084\n",
            "RMSE on validation set:  5633182.87513833\n",
            "\n",
            "\n",
            "For alpha =  10000\n",
            "RMSE on training set:  7712389.432217538\n",
            "RMSE on validation set:  4521905.583502401\n",
            "\n",
            "\n",
            "For alpha =  100000\n",
            "RMSE on training set:  14600498.520348776\n",
            "RMSE on validation set:  10502863.775565729\n",
            "\n",
            "\n",
            "For alpha =  1000000\n",
            "RMSE on training set:  20036025.00599003\n",
            "RMSE on validation set:  16057627.104454402\n",
            "\n",
            "\n",
            "For alpha =  10000000\n",
            "RMSE on training set:  22910819.32474683\n",
            "RMSE on validation set:  18700005.544786207\n",
            "\n",
            "\n",
            "For alpha =  100000000\n",
            "RMSE on training set:  23435716.156519353\n",
            "RMSE on validation set:  19178033.464494962\n",
            "\n",
            "\n",
            "For alpha =  1000000000\n",
            "RMSE on training set:  23494007.189870406\n",
            "RMSE on validation set:  19231116.414978746\n",
            "\n",
            "\n",
            "For alpha =  10000000000\n",
            "RMSE on training set:  23499904.341360077\n",
            "RMSE on validation set:  19236486.536391094\n",
            "\n",
            "\n"
          ]
        }
      ]
    }
  ]
}